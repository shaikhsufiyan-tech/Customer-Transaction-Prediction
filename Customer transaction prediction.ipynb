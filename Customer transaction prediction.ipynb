{
 "cells": [
  {
   "cell_type": "code",
   "execution_count": 41,
   "id": "cc0eeb20-a095-40b3-9272-fd53ffd10d43",
   "metadata": {},
   "outputs": [],
   "source": [
    "# 1. Import libraries\n",
    "import pandas as pd\n",
    "import matplotlib.pyplot as plt\n",
    "import seaborn as sns\n",
    "from sklearn.model_selection import train_test_split\n",
    "from sklearn.linear_model import LogisticRegression\n",
    "from sklearn.ensemble import RandomForestClassifier\n",
    "from xgboost import XGBClassifier\n",
    "from sklearn.metrics import classification_report, confusion_matrix, roc_auc_score\n",
    "from sklearn.metrics import classification_report, roc_auc_score, f1_score\n",
    "from sklearn.preprocessing import StandardScaler\n",
    "from imblearn.over_sampling import SMOTE"
   ]
  },
  {
   "cell_type": "code",
   "execution_count": 3,
   "id": "977f5443-c596-4e7b-8483-83b5da5e7cfe",
   "metadata": {},
   "outputs": [],
   "source": [
    "df = pd.read_csv(\"train(1).csv\")"
   ]
  },
  {
   "cell_type": "code",
   "execution_count": 5,
   "id": "a9defae0-2dd0-4005-a090-276b0882dd3d",
   "metadata": {},
   "outputs": [
    {
     "data": {
      "text/html": [
       "<div>\n",
       "<style scoped>\n",
       "    .dataframe tbody tr th:only-of-type {\n",
       "        vertical-align: middle;\n",
       "    }\n",
       "\n",
       "    .dataframe tbody tr th {\n",
       "        vertical-align: top;\n",
       "    }\n",
       "\n",
       "    .dataframe thead th {\n",
       "        text-align: right;\n",
       "    }\n",
       "</style>\n",
       "<table border=\"1\" class=\"dataframe\">\n",
       "  <thead>\n",
       "    <tr style=\"text-align: right;\">\n",
       "      <th></th>\n",
       "      <th>ID_code</th>\n",
       "      <th>target</th>\n",
       "      <th>var_0</th>\n",
       "      <th>var_1</th>\n",
       "      <th>var_2</th>\n",
       "      <th>var_3</th>\n",
       "      <th>var_4</th>\n",
       "      <th>var_5</th>\n",
       "      <th>var_6</th>\n",
       "      <th>var_7</th>\n",
       "      <th>...</th>\n",
       "      <th>var_190</th>\n",
       "      <th>var_191</th>\n",
       "      <th>var_192</th>\n",
       "      <th>var_193</th>\n",
       "      <th>var_194</th>\n",
       "      <th>var_195</th>\n",
       "      <th>var_196</th>\n",
       "      <th>var_197</th>\n",
       "      <th>var_198</th>\n",
       "      <th>var_199</th>\n",
       "    </tr>\n",
       "  </thead>\n",
       "  <tbody>\n",
       "    <tr>\n",
       "      <th>0</th>\n",
       "      <td>train_0</td>\n",
       "      <td>0</td>\n",
       "      <td>8.9255</td>\n",
       "      <td>-6.7863</td>\n",
       "      <td>11.9081</td>\n",
       "      <td>5.0930</td>\n",
       "      <td>11.4607</td>\n",
       "      <td>-9.2834</td>\n",
       "      <td>5.1187</td>\n",
       "      <td>18.6266</td>\n",
       "      <td>...</td>\n",
       "      <td>4.4354</td>\n",
       "      <td>3.9642</td>\n",
       "      <td>3.1364</td>\n",
       "      <td>1.6910</td>\n",
       "      <td>18.5227</td>\n",
       "      <td>-2.3978</td>\n",
       "      <td>7.8784</td>\n",
       "      <td>8.5635</td>\n",
       "      <td>12.7803</td>\n",
       "      <td>-1.0914</td>\n",
       "    </tr>\n",
       "    <tr>\n",
       "      <th>1</th>\n",
       "      <td>train_1</td>\n",
       "      <td>0</td>\n",
       "      <td>11.5006</td>\n",
       "      <td>-4.1473</td>\n",
       "      <td>13.8588</td>\n",
       "      <td>5.3890</td>\n",
       "      <td>12.3622</td>\n",
       "      <td>7.0433</td>\n",
       "      <td>5.6208</td>\n",
       "      <td>16.5338</td>\n",
       "      <td>...</td>\n",
       "      <td>7.6421</td>\n",
       "      <td>7.7214</td>\n",
       "      <td>2.5837</td>\n",
       "      <td>10.9516</td>\n",
       "      <td>15.4305</td>\n",
       "      <td>2.0339</td>\n",
       "      <td>8.1267</td>\n",
       "      <td>8.7889</td>\n",
       "      <td>18.3560</td>\n",
       "      <td>1.9518</td>\n",
       "    </tr>\n",
       "    <tr>\n",
       "      <th>2</th>\n",
       "      <td>train_2</td>\n",
       "      <td>0</td>\n",
       "      <td>8.6093</td>\n",
       "      <td>-2.7457</td>\n",
       "      <td>12.0805</td>\n",
       "      <td>7.8928</td>\n",
       "      <td>10.5825</td>\n",
       "      <td>-9.0837</td>\n",
       "      <td>6.9427</td>\n",
       "      <td>14.6155</td>\n",
       "      <td>...</td>\n",
       "      <td>2.9057</td>\n",
       "      <td>9.7905</td>\n",
       "      <td>1.6704</td>\n",
       "      <td>1.6858</td>\n",
       "      <td>21.6042</td>\n",
       "      <td>3.1417</td>\n",
       "      <td>-6.5213</td>\n",
       "      <td>8.2675</td>\n",
       "      <td>14.7222</td>\n",
       "      <td>0.3965</td>\n",
       "    </tr>\n",
       "    <tr>\n",
       "      <th>3</th>\n",
       "      <td>train_3</td>\n",
       "      <td>0</td>\n",
       "      <td>11.0604</td>\n",
       "      <td>-2.1518</td>\n",
       "      <td>8.9522</td>\n",
       "      <td>7.1957</td>\n",
       "      <td>12.5846</td>\n",
       "      <td>-1.8361</td>\n",
       "      <td>5.8428</td>\n",
       "      <td>14.9250</td>\n",
       "      <td>...</td>\n",
       "      <td>4.4666</td>\n",
       "      <td>4.7433</td>\n",
       "      <td>0.7178</td>\n",
       "      <td>1.4214</td>\n",
       "      <td>23.0347</td>\n",
       "      <td>-1.2706</td>\n",
       "      <td>-2.9275</td>\n",
       "      <td>10.2922</td>\n",
       "      <td>17.9697</td>\n",
       "      <td>-8.9996</td>\n",
       "    </tr>\n",
       "    <tr>\n",
       "      <th>4</th>\n",
       "      <td>train_4</td>\n",
       "      <td>0</td>\n",
       "      <td>9.8369</td>\n",
       "      <td>-1.4834</td>\n",
       "      <td>12.8746</td>\n",
       "      <td>6.6375</td>\n",
       "      <td>12.2772</td>\n",
       "      <td>2.4486</td>\n",
       "      <td>5.9405</td>\n",
       "      <td>19.2514</td>\n",
       "      <td>...</td>\n",
       "      <td>-1.4905</td>\n",
       "      <td>9.5214</td>\n",
       "      <td>-0.1508</td>\n",
       "      <td>9.1942</td>\n",
       "      <td>13.2876</td>\n",
       "      <td>-1.5121</td>\n",
       "      <td>3.9267</td>\n",
       "      <td>9.5031</td>\n",
       "      <td>17.9974</td>\n",
       "      <td>-8.8104</td>\n",
       "    </tr>\n",
       "  </tbody>\n",
       "</table>\n",
       "<p>5 rows × 202 columns</p>\n",
       "</div>"
      ],
      "text/plain": [
       "   ID_code  target    var_0   var_1    var_2   var_3    var_4   var_5   var_6  \\\n",
       "0  train_0       0   8.9255 -6.7863  11.9081  5.0930  11.4607 -9.2834  5.1187   \n",
       "1  train_1       0  11.5006 -4.1473  13.8588  5.3890  12.3622  7.0433  5.6208   \n",
       "2  train_2       0   8.6093 -2.7457  12.0805  7.8928  10.5825 -9.0837  6.9427   \n",
       "3  train_3       0  11.0604 -2.1518   8.9522  7.1957  12.5846 -1.8361  5.8428   \n",
       "4  train_4       0   9.8369 -1.4834  12.8746  6.6375  12.2772  2.4486  5.9405   \n",
       "\n",
       "     var_7  ...  var_190  var_191  var_192  var_193  var_194  var_195  \\\n",
       "0  18.6266  ...   4.4354   3.9642   3.1364   1.6910  18.5227  -2.3978   \n",
       "1  16.5338  ...   7.6421   7.7214   2.5837  10.9516  15.4305   2.0339   \n",
       "2  14.6155  ...   2.9057   9.7905   1.6704   1.6858  21.6042   3.1417   \n",
       "3  14.9250  ...   4.4666   4.7433   0.7178   1.4214  23.0347  -1.2706   \n",
       "4  19.2514  ...  -1.4905   9.5214  -0.1508   9.1942  13.2876  -1.5121   \n",
       "\n",
       "   var_196  var_197  var_198  var_199  \n",
       "0   7.8784   8.5635  12.7803  -1.0914  \n",
       "1   8.1267   8.7889  18.3560   1.9518  \n",
       "2  -6.5213   8.2675  14.7222   0.3965  \n",
       "3  -2.9275  10.2922  17.9697  -8.9996  \n",
       "4   3.9267   9.5031  17.9974  -8.8104  \n",
       "\n",
       "[5 rows x 202 columns]"
      ]
     },
     "execution_count": 5,
     "metadata": {},
     "output_type": "execute_result"
    }
   ],
   "source": [
    "df.head()"
   ]
  },
  {
   "cell_type": "code",
   "execution_count": 7,
   "id": "e909d600-0523-43aa-9876-90b121c0424e",
   "metadata": {},
   "outputs": [
    {
     "name": "stdout",
     "output_type": "stream",
     "text": [
      "\n",
      "Missing values in dataset: 0\n"
     ]
    }
   ],
   "source": [
    "missing = df.isnull().sum().sum()\n",
    "print(\"\\nMissing values in dataset:\", missing)"
   ]
  },
  {
   "cell_type": "code",
   "execution_count": 11,
   "id": "dc8a6082-fe1c-4f54-bc3b-6f35e011008a",
   "metadata": {},
   "outputs": [
    {
     "name": "stdout",
     "output_type": "stream",
     "text": [
      "\n",
      "Statistical Summary:\n",
      "               target          var_0          var_1          var_2  \\\n",
      "count  200000.000000  200000.000000  200000.000000  200000.000000   \n",
      "mean        0.100490      10.679914      -1.627622      10.715192   \n",
      "std         0.300653       3.040051       4.050044       2.640894   \n",
      "min         0.000000       0.408400     -15.043400       2.117100   \n",
      "25%         0.000000       8.453850      -4.740025       8.722475   \n",
      "50%         0.000000      10.524750      -1.608050      10.580000   \n",
      "75%         0.000000      12.758200       1.358625      12.516700   \n",
      "max         1.000000      20.315000      10.376800      19.353000   \n",
      "\n",
      "               var_3          var_4          var_5          var_6  \\\n",
      "count  200000.000000  200000.000000  200000.000000  200000.000000   \n",
      "mean        6.796529      11.078333      -5.065317       5.408949   \n",
      "std         2.043319       1.623150       7.863267       0.866607   \n",
      "min        -0.040200       5.074800     -32.562600       2.347300   \n",
      "25%         5.254075       9.883175     -11.200350       4.767700   \n",
      "50%         6.825000      11.108250      -4.833150       5.385100   \n",
      "75%         8.324100      12.261125       0.924800       6.003000   \n",
      "max        13.188300      16.671400      17.251600       8.447700   \n",
      "\n",
      "               var_7          var_8  ...        var_190        var_191  \\\n",
      "count  200000.000000  200000.000000  ...  200000.000000  200000.000000   \n",
      "mean       16.545850       0.284162  ...       3.234440       7.438408   \n",
      "std         3.418076       3.332634  ...       4.559922       3.023272   \n",
      "min         5.349700     -10.505500  ...     -14.093300      -2.691700   \n",
      "25%        13.943800      -2.317800  ...      -0.058825       5.157400   \n",
      "50%        16.456800       0.393700  ...       3.203600       7.347750   \n",
      "75%        19.102900       2.937900  ...       6.406200       9.512525   \n",
      "max        27.691800      10.151300  ...      18.440900      16.716500   \n",
      "\n",
      "             var_192        var_193        var_194        var_195  \\\n",
      "count  200000.000000  200000.000000  200000.000000  200000.000000   \n",
      "mean        1.927839       3.331774      17.993784      -0.142088   \n",
      "std         1.478423       3.992030       3.135162       1.429372   \n",
      "min        -3.814500     -11.783400       8.694400      -5.261000   \n",
      "25%         0.889775       0.584600      15.629800      -1.170700   \n",
      "50%         1.901300       3.396350      17.957950      -0.172700   \n",
      "75%         2.949500       6.205800      20.396525       0.829600   \n",
      "max         8.402400      18.281800      27.928800       4.272900   \n",
      "\n",
      "             var_196        var_197        var_198        var_199  \n",
      "count  200000.000000  200000.000000  200000.000000  200000.000000  \n",
      "mean        2.303335       8.908158      15.870720      -3.326537  \n",
      "std         5.454369       0.921625       3.010945      10.438015  \n",
      "min       -14.209600       5.960600       6.299300     -38.852800  \n",
      "25%        -1.946925       8.252800      13.829700     -11.208475  \n",
      "50%         2.408900       8.888200      15.934050      -2.819550  \n",
      "75%         6.556725       9.593300      18.064725       4.836800  \n",
      "max        18.321500      12.000400      26.079100      28.500700  \n",
      "\n",
      "[8 rows x 201 columns]\n"
     ]
    }
   ],
   "source": [
    "print(\"\\nStatistical Summary:\\n\", df.describe())"
   ]
  },
  {
   "cell_type": "code",
   "execution_count": 13,
   "id": "34a7edd2-681d-49ba-8d96-516126e22ebd",
   "metadata": {},
   "outputs": [
    {
     "name": "stdout",
     "output_type": "stream",
     "text": [
      "\n",
      "Top 10 positively correlated features:\n",
      " var_6      0.066731\n",
      "var_110    0.064275\n",
      "var_53     0.063399\n",
      "var_26     0.062422\n",
      "var_22     0.060558\n",
      "var_99     0.058367\n",
      "var_190    0.055973\n",
      "var_2      0.055870\n",
      "var_133    0.054548\n",
      "var_0      0.052390\n",
      "Name: target, dtype: float64\n",
      "\n",
      "Top 10 negatively correlated features:\n",
      " var_165   -0.055734\n",
      "var_80    -0.057609\n",
      "var_166   -0.057773\n",
      "var_21    -0.058483\n",
      "var_174   -0.061669\n",
      "var_76    -0.061917\n",
      "var_146   -0.063644\n",
      "var_12    -0.069489\n",
      "var_139   -0.074080\n",
      "var_81    -0.080917\n",
      "Name: target, dtype: float64\n"
     ]
    }
   ],
   "source": [
    "correlations = df.drop(columns=[\"ID_code\"]).corr()[\"target\"].sort_values(ascending=False)\n",
    "print(\"\\nTop 10 positively correlated features:\\n\", correlations.head(11)[1:])\n",
    "print(\"\\nTop 10 negatively correlated features:\\n\", correlations.tail(10))"
   ]
  },
  {
   "cell_type": "code",
   "execution_count": 17,
   "id": "4fbb34ad-6201-4452-802f-1b9b616e3577",
   "metadata": {},
   "outputs": [],
   "source": [
    "# Top 10 positively and negatively correlated features\n",
    "selected_features = [\n",
    "    'var_6', 'var_110', 'var_53', 'var_26', 'var_22',\n",
    "    'var_99', 'var_190', 'var_2', 'var_133', 'var_0',\n",
    "    'var_165', 'var_80', 'var_166', 'var_21', 'var_174',\n",
    "    'var_76', 'var_146', 'var_12', 'var_139', 'var_81'\n",
    "]\n",
    "\n",
    "X = df[selected_features]\n",
    "y = df[\"target\"]\n",
    "\n"
   ]
  },
  {
   "cell_type": "code",
   "execution_count": 21,
   "id": "b898260b-ace3-4215-aa7b-17892259d453",
   "metadata": {},
   "outputs": [
    {
     "data": {
      "image/png": "[encoded data removed]",
      "text/plain": [
       "<Figure size 600x400 with 1 Axes>"
      ]
     },
     "metadata": {},
     "output_type": "display_data"
    }
   ],
   "source": [
    "# Target distribution\n",
    "plt.figure(figsize=(6, 4))\n",
    "sns.countplot(x=\"target\", data=df)\n",
    "plt.title(\"Distribution of Target Variable (0 = No Transaction, 1 = Transaction)\")\n",
    "plt.show()"
   ]
  },
  {
   "cell_type": "markdown",
   "id": "a3ee0d27-71ec-4cd9-8f45-136259d2fb14",
   "metadata": {},
   "source": [
    "This bar chart shows a clear class imbalance, where the majority of samples belong to class 0 (no transaction), and only a small portion to class 1 (transaction). This imbalance can negatively affect model performance, especially for detecting the minority class."
   ]
  },
  {
   "cell_type": "code",
   "execution_count": 25,
   "id": "6b6470dd-43f6-445b-a1d1-017a048ff2e6",
   "metadata": {},
   "outputs": [],
   "source": [
    "# Split data before applying SMOTE\n",
    "X = df.drop(columns=[\"ID_code\", \"target\"])\n",
    "y = df[\"target\"]"
   ]
  },
  {
   "cell_type": "code",
   "execution_count": 27,
   "id": "4e2367f1-9dd2-46a1-b416-3d95c74ddee9",
   "metadata": {},
   "outputs": [],
   "source": [
    "#Test/Train data\n",
    "X_train, X_test, y_train, y_test = train_test_split(X, y, test_size=0.2, stratify=y, random_state=42)"
   ]
  },
  {
   "cell_type": "code",
   "execution_count": 29,
   "id": "aebbcc07-1b61-4f4f-9693-f3de83722f65",
   "metadata": {},
   "outputs": [],
   "source": [
    " #Apply SMOTE only to the training set\n",
    "smote = SMOTE(random_state=42)\n",
    "X_train_resampled, y_train_resampled = smote.fit_resample(X_train, y_train)\n",
    "\n"
   ]
  },
  {
   "cell_type": "code",
   "execution_count": 31,
   "id": "820ac183-cf10-4982-b7f5-8593674667f3",
   "metadata": {},
   "outputs": [],
   "source": [
    "# Scale data\n",
    "scaler = StandardScaler()\n",
    "X_train_scaled = scaler.fit_transform(X_train_resampled)\n",
    "X_test_scaled = scaler.transform(X_test)"
   ]
  },
  {
   "cell_type": "code",
   "execution_count": 33,
   "id": "c45aba5b-e793-4cd5-b7fa-3d7a22fd7f6e",
   "metadata": {},
   "outputs": [
    {
     "data": {
      "image/png": "[encoded data removed]",
      "text/plain": [
       "<Figure size 640x480 with 1 Axes>"
      ]
     },
     "metadata": {},
     "output_type": "display_data"
    }
   ],
   "source": [
    "sns.countplot(x=y_train_resampled)\n",
    "plt.title(\"Balanced Class Distribution After SMOTE\")\n",
    "plt.show()"
   ]
  },
  {
   "cell_type": "code",
   "execution_count": 35,
   "id": "9da0ae9e-68e6-4ad9-ab72-e857ede3e6c3",
   "metadata": {},
   "outputs": [],
   "source": [
    "# Models to evaluate\n",
    "models = {\n",
    "    \"Logistic Regression\": LogisticRegression(max_iter=1000),\n",
    "    \"Random Forest\": RandomForestClassifier(n_estimators=100),\n",
    "    \"XGBoost\": XGBClassifier(use_label_encoder=False, eval_metric=\"logloss\")\n",
    "}\n",
    "\n"
   ]
  },
  {
   "cell_type": "code",
   "execution_count": 43,
   "id": "a59eadab-b7f6-49a2-8e13-e3c68fc8646e",
   "metadata": {},
   "outputs": [
    {
     "name": "stdout",
     "output_type": "stream",
     "text": [
      "🔹 Logistic Regression\n",
      "ROC AUC Score: 0.8588762551887589\n",
      "F1 Score: 0.42251189737223255\n",
      "              precision    recall  f1-score   support\n",
      "\n",
      "           0       0.97      0.79      0.87     35980\n",
      "           1       0.29      0.76      0.42      4020\n",
      "\n",
      "    accuracy                           0.79     40000\n",
      "   macro avg       0.63      0.78      0.65     40000\n",
      "weighted avg       0.90      0.79      0.83     40000\n",
      "\n"
     ]
    }
   ],
   "source": [
    "#Logistic Regression\n",
    "log_model = LogisticRegression(max_iter=1000)\n",
    "log_model.fit(X_train_scaled, y_train_resampled)\n",
    "\n",
    "log_pred = log_model.predict(X_test_scaled)\n",
    "log_proba = log_model.predict_proba(X_test_scaled)[:, 1]\n",
    "\n",
    "log_auc = roc_auc_score(y_test, log_proba)\n",
    "log_f1 = f1_score(y_test, log_pred)\n",
    "\n",
    "print(\"🔹 Logistic Regression\")\n",
    "print(\"ROC AUC Score:\", log_auc)\n",
    "print(\"F1 Score:\", log_f1)\n",
    "print(classification_report(y_test, log_pred))"
   ]
  },
  {
   "cell_type": "code",
   "execution_count": 45,
   "id": "dfdc94ca-7001-4f3b-bc29-aa3d34969144",
   "metadata": {},
   "outputs": [
    {
     "name": "stdout",
     "output_type": "stream",
     "text": [
      "🔹 Random Forest\n",
      "ROC AUC Score: 0.6973754939864325\n",
      "F1 Score: 0.05494018608772707\n",
      "              precision    recall  f1-score   support\n",
      "\n",
      "           0       0.90      0.99      0.94     35980\n",
      "           1       0.25      0.03      0.05      4020\n",
      "\n",
      "    accuracy                           0.89     40000\n",
      "   macro avg       0.58      0.51      0.50     40000\n",
      "weighted avg       0.84      0.89      0.85     40000\n",
      "\n"
     ]
    }
   ],
   "source": [
    "#Random Forest\n",
    "\n",
    "rf_model = RandomForestClassifier(n_estimators=100, random_state=42)\n",
    "rf_model.fit(X_train_scaled, y_train_resampled)\n",
    "\n",
    "rf_pred = rf_model.predict(X_test_scaled)\n",
    "rf_proba = rf_model.predict_proba(X_test_scaled)[:, 1]\n",
    "\n",
    "rf_auc = roc_auc_score(y_test, rf_proba)\n",
    "rf_f1 = f1_score(y_test, rf_pred)\n",
    "\n",
    "print(\"🔹 Random Forest\")\n",
    "print(\"ROC AUC Score:\", rf_auc)\n",
    "print(\"F1 Score:\", rf_f1)\n",
    "print(classification_report(y_test, rf_pred))\n"
   ]
  },
  {
   "cell_type": "code",
   "execution_count": 47,
   "id": "b1eb43d0-4cd8-4ede-997b-52200ecfa9d8",
   "metadata": {},
   "outputs": [
    {
     "name": "stderr",
     "output_type": "stream",
     "text": [
      "C:\\Users\\User\\anaconda3\\Lib\\site-packages\\xgboost\\training.py:183: UserWarning: [15:27:56] WARNING: C:\\actions-runner\\_work\\xgboost\\xgboost\\src\\learner.cc:738: \n",
      "Parameters: { \"use_label_encoder\" } are not used.\n",
      "\n",
      "  bst.update(dtrain, iteration=i, fobj=obj)\n"
     ]
    },
    {
     "name": "stdout",
     "output_type": "stream",
     "text": [
      "🔹 XGBoost\n",
      "ROC AUC Score: 0.7315963747134255\n",
      "F1 Score: 0.29453015427769985\n",
      "              precision    recall  f1-score   support\n",
      "\n",
      "           0       0.92      0.91      0.92     35980\n",
      "           1       0.28      0.31      0.29      4020\n",
      "\n",
      "    accuracy                           0.85     40000\n",
      "   macro avg       0.60      0.61      0.61     40000\n",
      "weighted avg       0.86      0.85      0.85     40000\n",
      "\n"
     ]
    }
   ],
   "source": [
    "#XGBosst \n",
    "xgb_model = XGBClassifier(use_label_encoder=False, eval_metric='logloss', random_state=42)\n",
    "xgb_model.fit(X_train_scaled, y_train_resampled)\n",
    "\n",
    "xgb_pred = xgb_model.predict(X_test_scaled)\n",
    "xgb_proba = xgb_model.predict_proba(X_test_scaled)[:, 1]\n",
    "\n",
    "xgb_auc = roc_auc_score(y_test, xgb_proba)\n",
    "xgb_f1 = f1_score(y_test, xgb_pred)\n",
    "\n",
    "print(\"🔹 XGBoost\")\n",
    "print(\"ROC AUC Score:\", xgb_auc)\n",
    "print(\"F1 Score:\", xgb_f1)\n",
    "print(classification_report(y_test, xgb_pred))"
   ]
  },
  {
   "cell_type": "code",
   "execution_count": 49,
   "id": "0a515053-6bfa-48ac-af24-6ee9e74c085f",
   "metadata": {},
   "outputs": [
    {
     "data": {
      "image/png": "[encoded data removed]",
      "text/plain": [
       "<Figure size 1000x600 with 1 Axes>"
      ]
     },
     "metadata": {},
     "output_type": "display_data"
    }
   ],
   "source": [
    "#Comparsion Report\n",
    "import matplotlib.pyplot as plt\n",
    "\n",
    "# Store model metrics\n",
    "model_names = [\"Logistic Regression\", \"Random Forest\", \"XGBoost\"]\n",
    "auc_scores = [log_auc, rf_auc, xgb_auc]\n",
    "f1_scores = [log_f1, rf_f1, xgb_f1]\n",
    "\n",
    "# Plot\n",
    "x = range(len(model_names))\n",
    "width = 0.35\n",
    "\n",
    "plt.figure(figsize=(10, 6))\n",
    "plt.bar(x, auc_scores, width=width, label='ROC AUC', color='skyblue')\n",
    "plt.bar([p + width for p in x], f1_scores, width=width, label='F1 Score', color='orange')\n",
    "\n",
    "plt.xticks([p + width/2 for p in x], model_names)\n",
    "plt.ylabel(\"Score\")\n",
    "plt.title(\"Model Comparison: ROC AUC vs F1 Score\")\n",
    "plt.legend()\n",
    "plt.grid(True)\n",
    "plt.show()\n"
   ]
  },
  {
   "cell_type": "code",
   "execution_count": 51,
   "id": "2dcc9535-e686-414c-9f08-031a9e942277",
   "metadata": {},
   "outputs": [
    {
     "name": "stdout",
     "output_type": "stream",
     "text": [
      "✅ Logistic Regression model saved as 'logistic_model.pkl'\n"
     ]
    }
   ],
   "source": [
    "import pickle\n",
    "\n",
    "# Save the model\n",
    "with open(\"logistic_model.pkl\", \"wb\") as f:\n",
    "    pickle.dump(log_model, f)\n",
    "\n",
    "print(\"✅ Logistic Regression model saved as 'logistic_model.pkl'\")\n"
   ]
  },
  {
   "cell_type": "code",
   "execution_count": null,
   "id": "8d77bb1d-356c-4386-b7fe-22f4db077535",
   "metadata": {},
   "outputs": [],
   "source": []
  }
 ],
 "metadata": {
  "kernelspec": {
   "display_name": "Python 3 (ipykernel)",
   "language": "python",
   "name": "python3"
  },
  "language_info": {
   "codemirror_mode": {
    "name": "ipython",
    "version": 3
   },
   "file_extension": ".py",
   "mimetype": "text/x-python",
   "name": "python",
   "nbconvert_exporter": "python",
   "pygments_lexer": "ipython3",
   "version": "3.12.4"
  }
 },
 "nbformat": 4,
 "nbformat_minor": 5
}
